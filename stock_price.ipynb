{
 "cells": [
  {
   "cell_type": "code",
   "execution_count": 89,
   "metadata": {},
   "outputs": [],
   "source": [
    "import matplotlib.pyplot as plt\n",
    "import pandas as pd\n",
    "import numpy as np\n",
    "from keras.models import Sequential\n",
    "import keras.layers as layers\n",
    "import keras.optimizers as optimizers\n",
    "from sklearn.preprocessing import MinMaxScaler\n",
    "from sklearn.metrics import mean_squared_error, r2_score\n",
    "import warnings\n",
    "warnings.filterwarnings(action='ignore')"
   ]
  },
  {
   "cell_type": "code",
   "execution_count": 90,
   "metadata": {},
   "outputs": [
    {
     "data": {
      "text/html": [
       "<div>\n",
       "<style scoped>\n",
       "    .dataframe tbody tr th:only-of-type {\n",
       "        vertical-align: middle;\n",
       "    }\n",
       "\n",
       "    .dataframe tbody tr th {\n",
       "        vertical-align: top;\n",
       "    }\n",
       "\n",
       "    .dataframe thead th {\n",
       "        text-align: right;\n",
       "    }\n",
       "</style>\n",
       "<table border=\"1\" class=\"dataframe\">\n",
       "  <thead>\n",
       "    <tr style=\"text-align: right;\">\n",
       "      <th></th>\n",
       "      <th>Date</th>\n",
       "      <th>Open</th>\n",
       "      <th>High</th>\n",
       "      <th>Low</th>\n",
       "      <th>Close</th>\n",
       "      <th>Adj Close</th>\n",
       "      <th>Volume</th>\n",
       "    </tr>\n",
       "  </thead>\n",
       "  <tbody>\n",
       "    <tr>\n",
       "      <th>0</th>\n",
       "      <td>2016-01-04</td>\n",
       "      <td>656.289978</td>\n",
       "      <td>657.719971</td>\n",
       "      <td>627.510010</td>\n",
       "      <td>636.989990</td>\n",
       "      <td>636.989990</td>\n",
       "      <td>9314500</td>\n",
       "    </tr>\n",
       "    <tr>\n",
       "      <th>1</th>\n",
       "      <td>2016-01-05</td>\n",
       "      <td>646.859985</td>\n",
       "      <td>646.909973</td>\n",
       "      <td>627.650024</td>\n",
       "      <td>633.789978</td>\n",
       "      <td>633.789978</td>\n",
       "      <td>5822600</td>\n",
       "    </tr>\n",
       "    <tr>\n",
       "      <th>2</th>\n",
       "      <td>2016-01-06</td>\n",
       "      <td>622.000000</td>\n",
       "      <td>639.789978</td>\n",
       "      <td>620.309998</td>\n",
       "      <td>632.650024</td>\n",
       "      <td>632.650024</td>\n",
       "      <td>5329200</td>\n",
       "    </tr>\n",
       "    <tr>\n",
       "      <th>3</th>\n",
       "      <td>2016-01-07</td>\n",
       "      <td>621.799988</td>\n",
       "      <td>630.000000</td>\n",
       "      <td>605.210022</td>\n",
       "      <td>607.940002</td>\n",
       "      <td>607.940002</td>\n",
       "      <td>7074900</td>\n",
       "    </tr>\n",
       "    <tr>\n",
       "      <th>4</th>\n",
       "      <td>2016-01-08</td>\n",
       "      <td>619.659973</td>\n",
       "      <td>624.140015</td>\n",
       "      <td>606.000000</td>\n",
       "      <td>607.049988</td>\n",
       "      <td>607.049988</td>\n",
       "      <td>5512900</td>\n",
       "    </tr>\n",
       "  </tbody>\n",
       "</table>\n",
       "</div>"
      ],
      "text/plain": [
       "         Date        Open        High         Low       Close   Adj Close  \\\n",
       "0  2016-01-04  656.289978  657.719971  627.510010  636.989990  636.989990   \n",
       "1  2016-01-05  646.859985  646.909973  627.650024  633.789978  633.789978   \n",
       "2  2016-01-06  622.000000  639.789978  620.309998  632.650024  632.650024   \n",
       "3  2016-01-07  621.799988  630.000000  605.210022  607.940002  607.940002   \n",
       "4  2016-01-08  619.659973  624.140015  606.000000  607.049988  607.049988   \n",
       "\n",
       "    Volume  \n",
       "0  9314500  \n",
       "1  5822600  \n",
       "2  5329200  \n",
       "3  7074900  \n",
       "4  5512900  "
      ]
     },
     "execution_count": 90,
     "metadata": {},
     "output_type": "execute_result"
    }
   ],
   "source": [
    "amazon = pd.read_csv('AMZN.csv')\n",
    "amazon.head()"
   ]
  },
  {
   "cell_type": "code",
   "execution_count": 91,
   "metadata": {},
   "outputs": [
    {
     "name": "stdout",
     "output_type": "stream",
     "text": [
      "<class 'pandas.core.frame.DataFrame'>\n",
      "RangeIndex: 1302 entries, 0 to 1301\n",
      "Data columns (total 7 columns):\n",
      " #   Column     Non-Null Count  Dtype  \n",
      "---  ------     --------------  -----  \n",
      " 0   Date       1302 non-null   object \n",
      " 1   Open       1302 non-null   float64\n",
      " 2   High       1302 non-null   float64\n",
      " 3   Low        1302 non-null   float64\n",
      " 4   Close      1302 non-null   float64\n",
      " 5   Adj Close  1302 non-null   float64\n",
      " 6   Volume     1302 non-null   int64  \n",
      "dtypes: float64(5), int64(1), object(1)\n",
      "memory usage: 71.3+ KB\n"
     ]
    }
   ],
   "source": [
    "amazon.info()"
   ]
  },
  {
   "cell_type": "code",
   "execution_count": 92,
   "metadata": {},
   "outputs": [
    {
     "data": {
      "text/plain": [
       "(1302, 1)"
      ]
     },
     "execution_count": 92,
     "metadata": {},
     "output_type": "execute_result"
    }
   ],
   "source": [
    "# Feature Scaling\n",
    "sc = MinMaxScaler(feature_range = (0, 1))\n",
    "scaled_set = sc.fit_transform(amazon.iloc[:, 1:2])\n",
    "scaled_set.shape"
   ]
  },
  {
   "cell_type": "code",
   "execution_count": 93,
   "metadata": {},
   "outputs": [
    {
     "data": {
      "text/plain": [
       "array([[0.05809076],\n",
       "       [0.05501809],\n",
       "       [0.04691771],\n",
       "       ...,\n",
       "       [0.84821714],\n",
       "       [0.82567555],\n",
       "       [0.82339467]])"
      ]
     },
     "execution_count": 93,
     "metadata": {},
     "output_type": "execute_result"
    }
   ],
   "source": [
    "scaled_set"
   ]
  },
  {
   "cell_type": "code",
   "execution_count": 94,
   "metadata": {},
   "outputs": [],
   "source": [
    "X_train, X_test, y_train, y_test = [], [], [], []"
   ]
  },
  {
   "cell_type": "code",
   "execution_count": 95,
   "metadata": {},
   "outputs": [],
   "source": [
    "#preprocessing training data\n",
    "for i in range(50, 1100):\n",
    "    X_train.append(scaled_set[i-50:i, 0])\n",
    "    y_train.append(scaled_set[i, 0])\n",
    "X_train, y_train = np.array(X_train), np.array(y_train)\n",
    "X_train = np.reshape(X_train, (X_train.shape[0], X_train.shape[1], 1))"
   ]
  },
  {
   "cell_type": "code",
   "execution_count": 96,
   "metadata": {},
   "outputs": [
    {
     "data": {
      "text/plain": [
       "(1050, 50, 1)"
      ]
     },
     "execution_count": 96,
     "metadata": {},
     "output_type": "execute_result"
    }
   ],
   "source": [
    "X_train.shape"
   ]
  },
  {
   "cell_type": "code",
   "execution_count": 98,
   "metadata": {},
   "outputs": [
    {
     "data": {
      "text/plain": [
       "(1050,)"
      ]
     },
     "execution_count": 98,
     "metadata": {},
     "output_type": "execute_result"
    }
   ],
   "source": [
    "y_train.shape"
   ]
  },
  {
   "cell_type": "code",
   "execution_count": 100,
   "metadata": {},
   "outputs": [
    {
     "data": {
      "text/plain": [
       "array([[0.05809076],\n",
       "       [0.05501809],\n",
       "       [0.04691771],\n",
       "       [0.04685254],\n",
       "       [0.04615524],\n",
       "       [0.04381571],\n",
       "       [0.04797669],\n",
       "       [0.04655277],\n",
       "       [0.03331389],\n",
       "       [0.03070391],\n",
       "       [0.03228424],\n",
       "       [0.02813628],\n",
       "       [0.03114054],\n",
       "       [0.03607701],\n",
       "       [0.03909429],\n",
       "       [0.04087338],\n",
       "       [0.04039765],\n",
       "       [0.04247651],\n",
       "       [0.03061918],\n",
       "       [0.03262963],\n",
       "       [0.02997403],\n",
       "       [0.02459767],\n",
       "       [0.01531122],\n",
       "       [0.01670583],\n",
       "       [0.0027566 ],\n",
       "       [0.        ],\n",
       "       [0.0044803 ],\n",
       "       [0.00428806],\n",
       "       [0.01065171],\n",
       "       [0.01351258],\n",
       "       [0.01652986],\n",
       "       [0.02058657],\n",
       "       [0.01391338],\n",
       "       [0.02091568],\n",
       "       [0.02526563],\n",
       "       [0.0220724 ],\n",
       "       [0.02525587],\n",
       "       [0.02675473],\n",
       "       [0.02476059],\n",
       "       [0.02550675],\n",
       "       [0.03380265],\n",
       "       [0.03256772],\n",
       "       [0.03358108],\n",
       "       [0.03112749],\n",
       "       [0.02602159],\n",
       "       [0.02657226],\n",
       "       [0.02891179],\n",
       "       [0.02898022],\n",
       "       [0.02899651],\n",
       "       [0.03029987]])"
      ]
     },
     "execution_count": 100,
     "metadata": {},
     "output_type": "execute_result"
    }
   ],
   "source": [
    "X_train[0]"
   ]
  },
  {
   "cell_type": "code",
   "execution_count": 99,
   "metadata": {},
   "outputs": [
    {
     "data": {
      "text/plain": [
       "array([0.03213761, 0.02981437, 0.02702192, ..., 0.61544353, 0.61355691,\n",
       "       0.61600397])"
      ]
     },
     "execution_count": 99,
     "metadata": {},
     "output_type": "execute_result"
    }
   ],
   "source": [
    "y_train"
   ]
  },
  {
   "cell_type": "code",
   "execution_count": 101,
   "metadata": {},
   "outputs": [],
   "source": [
    "#preprocessing test data\n",
    "for i in range(1100, 1302):\n",
    "    X_test.append(scaled_set[i-50:i, 0])\n",
    "    y_test.append(scaled_set[i, 0])\n",
    "X_test, y_test = np.array(X_test), np.array(y_test)\n",
    "X_test = np.reshape(X_test, (X_test.shape[0], X_test.shape[1], 1))"
   ]
  },
  {
   "cell_type": "code",
   "execution_count": 102,
   "metadata": {},
   "outputs": [
    {
     "data": {
      "text/plain": [
       "(202, 50, 1)"
      ]
     },
     "execution_count": 102,
     "metadata": {},
     "output_type": "execute_result"
    }
   ],
   "source": [
    "X_test.shape"
   ]
  },
  {
   "cell_type": "code",
   "execution_count": 103,
   "metadata": {},
   "outputs": [
    {
     "data": {
      "text/plain": [
       "(202,)"
      ]
     },
     "execution_count": 103,
     "metadata": {},
     "output_type": "execute_result"
    }
   ],
   "source": [
    "y_test.shape"
   ]
  },
  {
   "cell_type": "code",
   "execution_count": 104,
   "metadata": {},
   "outputs": [
    {
     "name": "stdout",
     "output_type": "stream",
     "text": [
      "_________________________________________________________________\n",
      "Layer (type)                 Output Shape              Param #   \n",
      "=================================================================\n",
      "lstm_20 (LSTM)               (None, 32)                4352      \n",
      "_________________________________________________________________\n",
      "dropout_18 (Dropout)         (None, 32)                0         \n",
      "_________________________________________________________________\n",
      "dense_18 (Dense)             (None, 1)                 33        \n",
      "=================================================================\n",
      "Total params: 4,385\n",
      "Trainable params: 4,385\n",
      "Non-trainable params: 0\n",
      "_________________________________________________________________\n"
     ]
    }
   ],
   "source": [
    "model = Sequential()\n",
    "model.add(layers.LSTM(units = 32, input_shape = (50,1)))\n",
    "model.add(layers.Dropout(0.2))# Adding the output layer\n",
    "model.add(layers.Dense(units = 1, activation='relu' ))\n",
    "\n",
    "# Compiling the RNN\n",
    "optimizer = optimizers.Adam(lr = 0.001)\n",
    "model.compile(optimizer = optimizer, loss = 'mean_squared_error')\n",
    "model.summary()"
   ]
  },
  {
   "cell_type": "code",
   "execution_count": 105,
   "metadata": {},
   "outputs": [
    {
     "name": "stdout",
     "output_type": "stream",
     "text": [
      "Epoch 1/25\n",
      "1050/1050 [==============================] - 5s 5ms/step - loss: 0.0489\n",
      "Epoch 2/25\n",
      "1050/1050 [==============================] - 1s 896us/step - loss: 0.0057\n",
      "Epoch 3/25\n",
      "1050/1050 [==============================] - 1s 907us/step - loss: 0.0030\n",
      "Epoch 4/25\n",
      "1050/1050 [==============================] - 1s 845us/step - loss: 0.0022\n",
      "Epoch 5/25\n",
      "1050/1050 [==============================] - 1s 889us/step - loss: 0.0022\n",
      "Epoch 6/25\n",
      "1050/1050 [==============================] - 1s 881us/step - loss: 0.0020\n",
      "Epoch 7/25\n",
      "1050/1050 [==============================] - 1s 1ms/step - loss: 0.0020\n",
      "Epoch 8/25\n",
      "1050/1050 [==============================] - 1s 1ms/step - loss: 0.0017\n",
      "Epoch 9/25\n",
      "1050/1050 [==============================] - 1s 1ms/step - loss: 0.0016\n",
      "Epoch 10/25\n",
      "1050/1050 [==============================] - 1s 904us/step - loss: 0.0014\n",
      "Epoch 11/25\n",
      "1050/1050 [==============================] - 1s 876us/step - loss: 0.0016\n",
      "Epoch 12/25\n",
      "1050/1050 [==============================] - 1s 992us/step - loss: 0.0014\n",
      "Epoch 13/25\n",
      "1050/1050 [==============================] - 1s 952us/step - loss: 0.0014\n",
      "Epoch 14/25\n",
      "1050/1050 [==============================] - 1s 1ms/step - loss: 0.0014\n",
      "Epoch 15/25\n",
      "1050/1050 [==============================] - 1s 943us/step - loss: 0.0013\n",
      "Epoch 16/25\n",
      "1050/1050 [==============================] - 1s 1ms/step - loss: 0.0012\n",
      "Epoch 17/25\n",
      "1050/1050 [==============================] - 1s 988us/step - loss: 0.0013\n",
      "Epoch 18/25\n",
      "1050/1050 [==============================] - 1s 912us/step - loss: 0.0012\n",
      "Epoch 19/25\n",
      "1050/1050 [==============================] - 1s 947us/step - loss: 0.0010\n",
      "Epoch 20/25\n",
      "1050/1050 [==============================] - 1s 1ms/step - loss: 0.0010\n",
      "Epoch 21/25\n",
      "1050/1050 [==============================] - 1s 1ms/step - loss: 0.0011\n",
      "Epoch 22/25\n",
      "1050/1050 [==============================] - 1s 890us/step - loss: 0.0010\n",
      "Epoch 23/25\n",
      "1050/1050 [==============================] - 1s 787us/step - loss: 0.0010\n",
      "Epoch 24/25\n",
      "1050/1050 [==============================] - 1s 860us/step - loss: 0.0010\n",
      "Epoch 25/25\n",
      "1050/1050 [==============================] - 1s 918us/step - loss: 0.0010\n"
     ]
    },
    {
     "data": {
      "text/plain": [
       "<keras.callbacks.History at 0x1e6e5031d30>"
      ]
     },
     "execution_count": 105,
     "metadata": {},
     "output_type": "execute_result"
    }
   ],
   "source": [
    "# Fitting the LSTM to the Training set\n",
    "model.fit(X_train, y_train, epochs = 25, batch_size = 32)"
   ]
  },
  {
   "cell_type": "code",
   "execution_count": 107,
   "metadata": {},
   "outputs": [
    {
     "name": "stdout",
     "output_type": "stream",
     "text": [
      "mse test error :  0.0021024300119862733\n"
     ]
    }
   ],
   "source": [
    "#predictions and loss calculation\n",
    "y_pred = model.predict(X_test)\n",
    "print('mse test error : ', mean_squared_error(y_test,y_pred))"
   ]
  },
  {
   "cell_type": "code",
   "execution_count": 108,
   "metadata": {},
   "outputs": [
    {
     "name": "stdout",
     "output_type": "stream",
     "text": [
      "R squared error :  0.6992876415393443\n"
     ]
    }
   ],
   "source": [
    "print('R squared error : ', r2_score(y_test,y_pred))"
   ]
  },
  {
   "cell_type": "code",
   "execution_count": 109,
   "metadata": {},
   "outputs": [],
   "source": [
    "#scaling reverse transformation\n",
    "y_pred = sc.inverse_transform(y_pred)\n",
    "y_test = sc.inverse_transform(y_test.reshape(-1,1))"
   ]
  },
  {
   "cell_type": "code",
   "execution_count": 110,
   "metadata": {},
   "outputs": [
    {
     "data": {
      "image/png": "[encoded data removed]",
      "text/plain": [
       "<Figure size 1440x720 with 1 Axes>"
      ]
     },
     "metadata": {},
     "output_type": "display_data"
    }
   ],
   "source": [
    "# Visualising the results\n",
    "plt.figure(figsize = (20,10))\n",
    "plt.plot(amazon.loc[1100:,'Date'] ,y_test , color = 'red', label = 'Real Amazon Stock Price')\n",
    "plt.plot(amazon.loc[1100:,'Date'] ,y_pred , color = 'blue', label = 'Predicted Amazon Stock Price')\n",
    "plt.xticks(np.arange(0,202,50))\n",
    "plt.title('Amazon Stock Price Prediction')\n",
    "plt.xlabel('Time')\n",
    "plt.ylabel('Amazon Stock Price')\n",
    "plt.legend()\n",
    "plt.show()"
   ]
  },
  {
   "cell_type": "code",
   "execution_count": null,
   "metadata": {},
   "outputs": [],
   "source": []
  }
 ],
 "metadata": {
  "kernelspec": {
   "display_name": "Python 3",
   "language": "python",
   "name": "python3"
  },
  "language_info": {
   "codemirror_mode": {
    "name": "ipython",
    "version": 3
   },
   "file_extension": ".py",
   "mimetype": "text/x-python",
   "name": "python",
   "nbconvert_exporter": "python",
   "pygments_lexer": "ipython3",
   "version": "3.7.9"
  }
 },
 "nbformat": 4,
 "nbformat_minor": 4
}
