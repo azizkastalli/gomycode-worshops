{
 "cells": [
  {
   "cell_type": "markdown",
   "metadata": {},
   "source": [
    "<center><img src=\"https://www.ebodhi.in/wp-content/uploads/2018/04/Techopedia.jpg\"></center>"
   ]
  },
  {
   "cell_type": "markdown",
   "metadata": {},
   "source": [
    "# Data Vizualisation, preprocessing and Feature engineering tutorial \n",
    "<br>\n",
    "<b>Important</b> : <br>\n",
    "The purpose of this tutorial is to make you understand the main ideas behind feature engineering and how can we generate new features from our dataset.<br> \n",
    "<pre><b>Table of contents :\n",
    "    1. Read data\n",
    "    2. Missing values\n",
    "    3. Feature engineering\n",
    "<br>"
   ]
  },
  {
   "cell_type": "code",
   "execution_count": 1,
   "metadata": {
    "_cell_guid": "b1076dfc-b9ad-4769-8c92-a6c4dae69d19",
    "_uuid": "8f2839f25d086af736a60e9eeb907d3b93b6e0e5"
   },
   "outputs": [],
   "source": [
    "import numpy as np\n",
    "import pandas as pd\n",
    "import matplotlib.pyplot as plt\n",
    "import seaborn as sns"
   ]
  },
  {
   "cell_type": "markdown",
   "metadata": {},
   "source": [
    "## 1. Read data"
   ]
  },
  {
   "cell_type": "code",
   "execution_count": 2,
   "metadata": {
    "_cell_guid": "79c7e3d0-c299-4dcb-8224-4455121ee9b0",
    "_uuid": "d629ff2d2480ee46fbb7e2d37f6b5fab8052498a"
   },
   "outputs": [
    {
     "data": {
      "text/plain": [
       "(150930, 8)"
      ]
     },
     "execution_count": 2,
     "metadata": {},
     "output_type": "execute_result"
    }
   ],
   "source": [
    "wine = pd.read_csv('./wine.csv')\n",
    "wine.shape"
   ]
  },
  {
   "cell_type": "code",
   "execution_count": 3,
   "metadata": {},
   "outputs": [
    {
     "name": "stdout",
     "output_type": "stream",
     "text": [
      "<class 'pandas.core.frame.DataFrame'>\n",
      "RangeIndex: 150930 entries, 0 to 150929\n",
      "Data columns (total 8 columns):\n",
      "country        150925 non-null object\n",
      "designation    105195 non-null object\n",
      "points         150930 non-null int64\n",
      "price          137235 non-null float64\n",
      "province       150925 non-null object\n",
      "region_1       125870 non-null object\n",
      "variety        150930 non-null object\n",
      "winery         150930 non-null object\n",
      "dtypes: float64(1), int64(1), object(6)\n",
      "memory usage: 9.2+ MB\n"
     ]
    }
   ],
   "source": [
    "wine.info()"
   ]
  },
  {
   "cell_type": "code",
   "execution_count": 4,
   "metadata": {},
   "outputs": [
    {
     "data": {
      "text/html": [
       "<div>\n",
       "<style scoped>\n",
       "    .dataframe tbody tr th:only-of-type {\n",
       "        vertical-align: middle;\n",
       "    }\n",
       "\n",
       "    .dataframe tbody tr th {\n",
       "        vertical-align: top;\n",
       "    }\n",
       "\n",
       "    .dataframe thead th {\n",
       "        text-align: right;\n",
       "    }\n",
       "</style>\n",
       "<table border=\"1\" class=\"dataframe\">\n",
       "  <thead>\n",
       "    <tr style=\"text-align: right;\">\n",
       "      <th></th>\n",
       "      <th>country</th>\n",
       "      <th>designation</th>\n",
       "      <th>points</th>\n",
       "      <th>price</th>\n",
       "      <th>province</th>\n",
       "      <th>region_1</th>\n",
       "      <th>variety</th>\n",
       "      <th>winery</th>\n",
       "    </tr>\n",
       "  </thead>\n",
       "  <tbody>\n",
       "    <tr>\n",
       "      <th>0</th>\n",
       "      <td>US</td>\n",
       "      <td>Martha's Vineyard</td>\n",
       "      <td>96</td>\n",
       "      <td>235.0</td>\n",
       "      <td>California</td>\n",
       "      <td>Napa Valley</td>\n",
       "      <td>Cabernet Sauvignon</td>\n",
       "      <td>Heitz</td>\n",
       "    </tr>\n",
       "    <tr>\n",
       "      <th>1</th>\n",
       "      <td>Spain</td>\n",
       "      <td>Carodorum Selección Especial Reserva</td>\n",
       "      <td>96</td>\n",
       "      <td>110.0</td>\n",
       "      <td>Northern Spain</td>\n",
       "      <td>Toro</td>\n",
       "      <td>Tinta de Toro</td>\n",
       "      <td>Bodega Carmen Rodríguez</td>\n",
       "    </tr>\n",
       "    <tr>\n",
       "      <th>2</th>\n",
       "      <td>US</td>\n",
       "      <td>Special Selected Late Harvest</td>\n",
       "      <td>96</td>\n",
       "      <td>90.0</td>\n",
       "      <td>California</td>\n",
       "      <td>Knights Valley</td>\n",
       "      <td>Sauvignon Blanc</td>\n",
       "      <td>Macauley</td>\n",
       "    </tr>\n",
       "    <tr>\n",
       "      <th>3</th>\n",
       "      <td>US</td>\n",
       "      <td>Reserve</td>\n",
       "      <td>96</td>\n",
       "      <td>65.0</td>\n",
       "      <td>Oregon</td>\n",
       "      <td>Willamette Valley</td>\n",
       "      <td>Pinot Noir</td>\n",
       "      <td>Ponzi</td>\n",
       "    </tr>\n",
       "    <tr>\n",
       "      <th>4</th>\n",
       "      <td>France</td>\n",
       "      <td>La Brûlade</td>\n",
       "      <td>95</td>\n",
       "      <td>66.0</td>\n",
       "      <td>Provence</td>\n",
       "      <td>Bandol</td>\n",
       "      <td>Provence red blend</td>\n",
       "      <td>Domaine de la Bégude</td>\n",
       "    </tr>\n",
       "  </tbody>\n",
       "</table>\n",
       "</div>"
      ],
      "text/plain": [
       "  country                           designation  points  price  \\\n",
       "0      US                     Martha's Vineyard      96  235.0   \n",
       "1   Spain  Carodorum Selección Especial Reserva      96  110.0   \n",
       "2      US         Special Selected Late Harvest      96   90.0   \n",
       "3      US                               Reserve      96   65.0   \n",
       "4  France                            La Brûlade      95   66.0   \n",
       "\n",
       "         province           region_1             variety  \\\n",
       "0      California        Napa Valley  Cabernet Sauvignon   \n",
       "1  Northern Spain               Toro       Tinta de Toro   \n",
       "2      California     Knights Valley     Sauvignon Blanc   \n",
       "3          Oregon  Willamette Valley          Pinot Noir   \n",
       "4        Provence             Bandol  Provence red blend   \n",
       "\n",
       "                    winery  \n",
       "0                    Heitz  \n",
       "1  Bodega Carmen Rodríguez  \n",
       "2                 Macauley  \n",
       "3                    Ponzi  \n",
       "4     Domaine de la Bégude  "
      ]
     },
     "execution_count": 4,
     "metadata": {},
     "output_type": "execute_result"
    }
   ],
   "source": [
    "wine.head()"
   ]
  },
  {
   "cell_type": "code",
   "execution_count": 5,
   "metadata": {},
   "outputs": [
    {
     "data": {
      "image/png": "[encoded data removed]",
      "text/plain": [
       "<Figure size 720x360 with 1 Axes>"
      ]
     },
     "metadata": {},
     "output_type": "display_data"
    }
   ],
   "source": [
    "plt.figure(figsize=(10,5))\n",
    "plt.plot(wine.points,wine.price,'b.');"
   ]
  },
  {
   "cell_type": "code",
   "execution_count": 6,
   "metadata": {},
   "outputs": [
    {
     "data": {
      "text/html": [
       "<div>\n",
       "<style scoped>\n",
       "    .dataframe tbody tr th:only-of-type {\n",
       "        vertical-align: middle;\n",
       "    }\n",
       "\n",
       "    .dataframe tbody tr th {\n",
       "        vertical-align: top;\n",
       "    }\n",
       "\n",
       "    .dataframe thead th {\n",
       "        text-align: right;\n",
       "    }\n",
       "</style>\n",
       "<table border=\"1\" class=\"dataframe\">\n",
       "  <thead>\n",
       "    <tr style=\"text-align: right;\">\n",
       "      <th></th>\n",
       "      <th>price</th>\n",
       "      <th>points</th>\n",
       "    </tr>\n",
       "  </thead>\n",
       "  <tbody>\n",
       "    <tr>\n",
       "      <th>price</th>\n",
       "      <td>1.000000</td>\n",
       "      <td>0.459863</td>\n",
       "    </tr>\n",
       "    <tr>\n",
       "      <th>points</th>\n",
       "      <td>0.459863</td>\n",
       "      <td>1.000000</td>\n",
       "    </tr>\n",
       "  </tbody>\n",
       "</table>\n",
       "</div>"
      ],
      "text/plain": [
       "           price    points\n",
       "price   1.000000  0.459863\n",
       "points  0.459863  1.000000"
      ]
     },
     "execution_count": 6,
     "metadata": {},
     "output_type": "execute_result"
    }
   ],
   "source": [
    "wine[['price','points']].corr()"
   ]
  },
  {
   "cell_type": "code",
   "execution_count": 7,
   "metadata": {},
   "outputs": [
    {
     "data": {
      "image/png": "[encoded data removed]",
      "text/plain": [
       "<Figure size 1440x360 with 1 Axes>"
      ]
     },
     "metadata": {},
     "output_type": "display_data"
    }
   ],
   "source": [
    "plt.figure(figsize=(20,5))\n",
    "wine.country.value_counts().plot('bar')\n",
    "plt.show()"
   ]
  },
  {
   "cell_type": "markdown",
   "metadata": {},
   "source": [
    "## 2. Missing values"
   ]
  },
  {
   "cell_type": "code",
   "execution_count": 8,
   "metadata": {},
   "outputs": [
    {
     "data": {
      "text/plain": [
       "country         0.003313\n",
       "designation    30.302127\n",
       "points          0.000000\n",
       "price           9.073743\n",
       "province        0.003313\n",
       "region_1       16.603724\n",
       "variety         0.000000\n",
       "winery          0.000000\n",
       "dtype: float64"
      ]
     },
     "execution_count": 8,
     "metadata": {},
     "output_type": "execute_result"
    }
   ],
   "source": [
    "(wine.isnull().sum()*100)/wine.shape[0]"
   ]
  },
  {
   "cell_type": "code",
   "execution_count": 9,
   "metadata": {},
   "outputs": [],
   "source": [
    "#country and province's missing values are less then 0.00%, we can just delete the rows.\n",
    "wine = wine[~(wine.country.isnull()|wine.province.isnull())]"
   ]
  },
  {
   "cell_type": "code",
   "execution_count": 10,
   "metadata": {},
   "outputs": [],
   "source": [
    "#price missing values\n",
    "wine.price.replace(np.nan,wine.price.median(),inplace=True)"
   ]
  },
  {
   "cell_type": "code",
   "execution_count": 11,
   "metadata": {},
   "outputs": [],
   "source": [
    "#this will take a few seconds\n",
    "#assign mode of region by province to get a more accurate filling for null values\n",
    "for province in wine.province.unique() : \n",
    "    wine.loc[wine.region_1.isnull(),'region_1'] = wine[wine.province == province].region_1.mode()[0]"
   ]
  },
  {
   "cell_type": "code",
   "execution_count": 12,
   "metadata": {},
   "outputs": [],
   "source": [
    "#this will take a few seconds\n",
    "#assign mode of designation by variety to get a more accurate filling for null values\n",
    "for variety in wine.variety.unique():\n",
    "    wine.loc[wine.designation.isnull(),'designation'] = wine[wine.variety == variety].designation.mode()[0]"
   ]
  },
  {
   "cell_type": "code",
   "execution_count": 13,
   "metadata": {},
   "outputs": [
    {
     "data": {
      "text/plain": [
       "country        0.0\n",
       "designation    0.0\n",
       "points         0.0\n",
       "price          0.0\n",
       "province       0.0\n",
       "region_1       0.0\n",
       "variety        0.0\n",
       "winery         0.0\n",
       "dtype: float64"
      ]
     },
     "execution_count": 13,
     "metadata": {},
     "output_type": "execute_result"
    }
   ],
   "source": [
    "(wine.isnull().sum()*100)/wine.shape[0]"
   ]
  },
  {
   "cell_type": "code",
   "execution_count": 14,
   "metadata": {},
   "outputs": [
    {
     "data": {
      "image/png": "[encoded data removed]",
      "text/plain": [
       "<Figure size 1080x360 with 2 Axes>"
      ]
     },
     "metadata": {},
     "output_type": "display_data"
    }
   ],
   "source": [
    "fig,ax = plt.subplots(1,2,figsize=(15,5))\n",
    "ax[0].boxplot(wine.points)\n",
    "ax[1].boxplot(wine.price)\n",
    "plt.show()"
   ]
  },
  {
   "cell_type": "code",
   "execution_count": 15,
   "metadata": {},
   "outputs": [
    {
     "data": {
      "text/plain": [
       "(150925, 8)"
      ]
     },
     "execution_count": 15,
     "metadata": {},
     "output_type": "execute_result"
    }
   ],
   "source": [
    "wine.shape"
   ]
  },
  {
   "cell_type": "markdown",
   "metadata": {},
   "source": [
    "## 3. Feature engineering"
   ]
  },
  {
   "cell_type": "markdown",
   "metadata": {},
   "source": [
    "In this part, we are going to focus on points and price, to generate features related to wine and winery."
   ]
  },
  {
   "cell_type": "markdown",
   "metadata": {},
   "source": [
    "### Price category :"
   ]
  },
  {
   "cell_type": "markdown",
   "metadata": {},
   "source": [
    "If you type wine price category on google, you will find 8 price categories of wine.\n",
    "I am going to introduce these categories to our dataset.<br>\n",
    "Wine categories : <br>   \n",
    "   * Value Wine. Cost: $4–$10\n",
    "   * Popular “Premium” Wine. Cost: $10–$15 \n",
    "   * Premium Wine. Cost: $15–$20\n",
    "   * Super-Premium Wine. Cost: $20–$30\n",
    "   * Ultra Premium Wine. Cost: $30–$50\n",
    "   * Luxury Wine. Cost: $50–$100\n",
    "   * Super Luxury Wine. Cost: $100–$200\n",
    "   * Icon Wine. Cost:$200+"
   ]
  },
  {
   "cell_type": "code",
   "execution_count": 16,
   "metadata": {},
   "outputs": [],
   "source": [
    "def price_category(price):\n",
    "    if price>200 :\n",
    "        return 'Icon Wine'\n",
    "    elif price>100 and price <= 200 :\n",
    "        return 'Super Luxury Wine'\n",
    "    elif price>50 and price <= 100 :\n",
    "        return 'Luxury Wine'\n",
    "    elif price>30 and price <= 50 :\n",
    "        return 'Ultra Premium Wine'\n",
    "    elif price>20 and price <= 30 :\n",
    "        return 'Super-Premium Wine'\n",
    "    elif price>15 and price <= 20 :\n",
    "        return 'Premium Wine'\n",
    "    elif price>10 and price <= 15 :  \n",
    "        return 'Popular Premium Wine'\n",
    "    else :\n",
    "        return 'Value Wine'\n",
    "    \n",
    "#this is an ordinal categorical feature\n",
    "wine['price_category'] = wine.price.apply(lambda x : price_category(x))"
   ]
  },
  {
   "cell_type": "code",
   "execution_count": 17,
   "metadata": {},
   "outputs": [
    {
     "data": {
      "image/png": "[encoded data removed]",
      "text/plain": [
       "<Figure size 720x360 with 1 Axes>"
      ]
     },
     "metadata": {},
     "output_type": "display_data"
    }
   ],
   "source": [
    "plt.figure(figsize=(10,5))\n",
    "sns.countplot(data=wine,x='price_category',orient=45)\n",
    "plt.xticks(rotation=45)\n",
    "plt.title('wine count by price category')\n",
    "plt.show()"
   ]
  },
  {
   "cell_type": "code",
   "execution_count": 18,
   "metadata": {},
   "outputs": [
    {
     "data": {
      "text/html": [
       "<div>\n",
       "<style scoped>\n",
       "    .dataframe tbody tr th:only-of-type {\n",
       "        vertical-align: middle;\n",
       "    }\n",
       "\n",
       "    .dataframe tbody tr th {\n",
       "        vertical-align: top;\n",
       "    }\n",
       "\n",
       "    .dataframe thead th {\n",
       "        text-align: right;\n",
       "    }\n",
       "</style>\n",
       "<table border=\"1\" class=\"dataframe\">\n",
       "  <thead>\n",
       "    <tr style=\"text-align: right;\">\n",
       "      <th></th>\n",
       "      <th>country</th>\n",
       "      <th>designation</th>\n",
       "      <th>points</th>\n",
       "      <th>price</th>\n",
       "      <th>province</th>\n",
       "      <th>region_1</th>\n",
       "      <th>variety</th>\n",
       "      <th>winery</th>\n",
       "      <th>price_category</th>\n",
       "    </tr>\n",
       "  </thead>\n",
       "  <tbody>\n",
       "    <tr>\n",
       "      <th>0</th>\n",
       "      <td>US</td>\n",
       "      <td>Martha's Vineyard</td>\n",
       "      <td>96</td>\n",
       "      <td>235.0</td>\n",
       "      <td>California</td>\n",
       "      <td>Napa Valley</td>\n",
       "      <td>Cabernet Sauvignon</td>\n",
       "      <td>Heitz</td>\n",
       "      <td>Icon Wine</td>\n",
       "    </tr>\n",
       "    <tr>\n",
       "      <th>1</th>\n",
       "      <td>Spain</td>\n",
       "      <td>Carodorum Selección Especial Reserva</td>\n",
       "      <td>96</td>\n",
       "      <td>110.0</td>\n",
       "      <td>Northern Spain</td>\n",
       "      <td>Toro</td>\n",
       "      <td>Tinta de Toro</td>\n",
       "      <td>Bodega Carmen Rodríguez</td>\n",
       "      <td>Super Luxury Wine</td>\n",
       "    </tr>\n",
       "    <tr>\n",
       "      <th>2</th>\n",
       "      <td>US</td>\n",
       "      <td>Special Selected Late Harvest</td>\n",
       "      <td>96</td>\n",
       "      <td>90.0</td>\n",
       "      <td>California</td>\n",
       "      <td>Knights Valley</td>\n",
       "      <td>Sauvignon Blanc</td>\n",
       "      <td>Macauley</td>\n",
       "      <td>Luxury Wine</td>\n",
       "    </tr>\n",
       "    <tr>\n",
       "      <th>3</th>\n",
       "      <td>US</td>\n",
       "      <td>Reserve</td>\n",
       "      <td>96</td>\n",
       "      <td>65.0</td>\n",
       "      <td>Oregon</td>\n",
       "      <td>Willamette Valley</td>\n",
       "      <td>Pinot Noir</td>\n",
       "      <td>Ponzi</td>\n",
       "      <td>Luxury Wine</td>\n",
       "    </tr>\n",
       "    <tr>\n",
       "      <th>4</th>\n",
       "      <td>France</td>\n",
       "      <td>La Brûlade</td>\n",
       "      <td>95</td>\n",
       "      <td>66.0</td>\n",
       "      <td>Provence</td>\n",
       "      <td>Bandol</td>\n",
       "      <td>Provence red blend</td>\n",
       "      <td>Domaine de la Bégude</td>\n",
       "      <td>Luxury Wine</td>\n",
       "    </tr>\n",
       "  </tbody>\n",
       "</table>\n",
       "</div>"
      ],
      "text/plain": [
       "  country                           designation  points  price  \\\n",
       "0      US                     Martha's Vineyard      96  235.0   \n",
       "1   Spain  Carodorum Selección Especial Reserva      96  110.0   \n",
       "2      US         Special Selected Late Harvest      96   90.0   \n",
       "3      US                               Reserve      96   65.0   \n",
       "4  France                            La Brûlade      95   66.0   \n",
       "\n",
       "         province           region_1             variety  \\\n",
       "0      California        Napa Valley  Cabernet Sauvignon   \n",
       "1  Northern Spain               Toro       Tinta de Toro   \n",
       "2      California     Knights Valley     Sauvignon Blanc   \n",
       "3          Oregon  Willamette Valley          Pinot Noir   \n",
       "4        Provence             Bandol  Provence red blend   \n",
       "\n",
       "                    winery     price_category  \n",
       "0                    Heitz          Icon Wine  \n",
       "1  Bodega Carmen Rodríguez  Super Luxury Wine  \n",
       "2                 Macauley        Luxury Wine  \n",
       "3                    Ponzi        Luxury Wine  \n",
       "4     Domaine de la Bégude        Luxury Wine  "
      ]
     },
     "execution_count": 18,
     "metadata": {},
     "output_type": "execute_result"
    }
   ],
   "source": [
    "wine.head()"
   ]
  },
  {
   "cell_type": "markdown",
   "metadata": {},
   "source": [
    "### value for money :"
   ]
  },
  {
   "cell_type": "markdown",
   "metadata": {},
   "source": [
    "Value for money indicates if there is a good tradeoff between points(quality) and price.<br>\n",
    "If we divide points by price we can introduce the value for money feature to our dataset.<br>\n",
    "If the price is to high compared to points(quality) we will get a value less than 1, if the price is as much as points we will get a value close to one and if the price is lower than points we will get a value higher than 1.<br>\n",
    "the only problem that remains is that price and points have different scales.<br>\n",
    "That's why we need to scale the features points and price before we do any operation.<br>\n",
    "Is that all ? no! <br>\n",
    "Even if we scale the price and points between 0 and 1, remember that wine has price categories, if we scale all categories at once, then all sheep wine price categories will get a price scaled value close to 0 and all expensive wine categories will get a price scaled value close to 1.<br>\n",
    "As a result, most of the expensive wine will have a low \"value for money\" which means high price for low quality and most of the sheep wine will get a high \"value for money\" value which means low price for high quality. that's not right!<br>\n",
    "To be fair, we need to scale the price by category."
   ]
  },
  {
   "cell_type": "code",
   "execution_count": 19,
   "metadata": {},
   "outputs": [],
   "source": [
    "from sklearn.preprocessing import MinMaxScaler\n",
    "\n",
    "#scale points\n",
    "scaler_points = MinMaxScaler()\n",
    "\n",
    "wine['scaled_points'] = 0\n",
    "wine.scaled_points = scaler_points.fit_transform(wine[['points']])"
   ]
  },
  {
   "cell_type": "code",
   "execution_count": 20,
   "metadata": {},
   "outputs": [],
   "source": [
    "#scale price\n",
    "scaler_price  = MinMaxScaler()\n",
    "wine['scaled_price'] = 0\n",
    "\n",
    "#scale price by category\n",
    "for category in wine.price_category.unique() : \n",
    "    wine.loc[wine.price_category==category,'scaled_price'] = scaler_price.fit_transform(wine[wine.price_category==category][['price']])"
   ]
  },
  {
   "cell_type": "code",
   "execution_count": 21,
   "metadata": {},
   "outputs": [],
   "source": [
    "#generate the feature value_for_money (divide the scaled_points by the scaled_price) \n",
    "wine['value_for_money'] = wine.scaled_points/wine.scaled_price"
   ]
  },
  {
   "cell_type": "markdown",
   "metadata": {},
   "source": [
    "In the next cell, we will correct some values in value_for_money feature. <br> \n",
    "When we divided \"scaled_points\" by \"scaled_price\", there are a few cases where both values are zeros and other cases where \"scaled_points\" are equal to one and \"scaled_price\" are equal to zero. <br>\n",
    "These few cases will generate values like nan and inf :<br> \n",
    " * 0/0 = nan <br>\n",
    " * 1/0 = inf <br>\n",
    "In order to solve this issue, we will replace nan (0/0) by 1 because 0/0 in our new 0 to 1 scale simply means that the cheapest wine in a particular \"price_category\" has the least quality or points, thus we will replace it with 1.<br>\n",
    "With regard to the second case (1/0= inf), we will replace inf by the maximum value in value_for_money feature, that's because 1/0 means that the cheapest wine in a particular price_category has the highest quality or points."
   ]
  },
  {
   "cell_type": "code",
   "execution_count": 22,
   "metadata": {},
   "outputs": [],
   "source": [
    "#replace inf\n",
    "maximum = wine.value_for_money[wine.value_for_money!=np.inf].max()\n",
    "wine.value_for_money.replace(np.inf,maximum,inplace=True)\n",
    "#replace nan\n",
    "wine.value_for_money.replace(np.nan,1,inplace=True)"
   ]
  },
  {
   "cell_type": "code",
   "execution_count": 23,
   "metadata": {},
   "outputs": [
    {
     "data": {
      "text/html": [
       "<div>\n",
       "<style scoped>\n",
       "    .dataframe tbody tr th:only-of-type {\n",
       "        vertical-align: middle;\n",
       "    }\n",
       "\n",
       "    .dataframe tbody tr th {\n",
       "        vertical-align: top;\n",
       "    }\n",
       "\n",
       "    .dataframe thead th {\n",
       "        text-align: right;\n",
       "    }\n",
       "</style>\n",
       "<table border=\"1\" class=\"dataframe\">\n",
       "  <thead>\n",
       "    <tr style=\"text-align: right;\">\n",
       "      <th></th>\n",
       "      <th>country</th>\n",
       "      <th>designation</th>\n",
       "      <th>points</th>\n",
       "      <th>price</th>\n",
       "      <th>province</th>\n",
       "      <th>region_1</th>\n",
       "      <th>variety</th>\n",
       "      <th>winery</th>\n",
       "      <th>price_category</th>\n",
       "      <th>scaled_points</th>\n",
       "      <th>scaled_price</th>\n",
       "      <th>value_for_money</th>\n",
       "    </tr>\n",
       "  </thead>\n",
       "  <tbody>\n",
       "    <tr>\n",
       "      <th>0</th>\n",
       "      <td>US</td>\n",
       "      <td>Martha's Vineyard</td>\n",
       "      <td>96</td>\n",
       "      <td>235.0</td>\n",
       "      <td>California</td>\n",
       "      <td>Napa Valley</td>\n",
       "      <td>Cabernet Sauvignon</td>\n",
       "      <td>Heitz</td>\n",
       "      <td>Icon Wine</td>\n",
       "      <td>0.80</td>\n",
       "      <td>0.015729</td>\n",
       "      <td>50.860606</td>\n",
       "    </tr>\n",
       "    <tr>\n",
       "      <th>1</th>\n",
       "      <td>Spain</td>\n",
       "      <td>Carodorum Selección Especial Reserva</td>\n",
       "      <td>96</td>\n",
       "      <td>110.0</td>\n",
       "      <td>Northern Spain</td>\n",
       "      <td>Toro</td>\n",
       "      <td>Tinta de Toro</td>\n",
       "      <td>Bodega Carmen Rodríguez</td>\n",
       "      <td>Super Luxury Wine</td>\n",
       "      <td>0.80</td>\n",
       "      <td>0.090909</td>\n",
       "      <td>8.800000</td>\n",
       "    </tr>\n",
       "    <tr>\n",
       "      <th>2</th>\n",
       "      <td>US</td>\n",
       "      <td>Special Selected Late Harvest</td>\n",
       "      <td>96</td>\n",
       "      <td>90.0</td>\n",
       "      <td>California</td>\n",
       "      <td>Knights Valley</td>\n",
       "      <td>Sauvignon Blanc</td>\n",
       "      <td>Macauley</td>\n",
       "      <td>Luxury Wine</td>\n",
       "      <td>0.80</td>\n",
       "      <td>0.795918</td>\n",
       "      <td>1.005128</td>\n",
       "    </tr>\n",
       "    <tr>\n",
       "      <th>3</th>\n",
       "      <td>US</td>\n",
       "      <td>Reserve</td>\n",
       "      <td>96</td>\n",
       "      <td>65.0</td>\n",
       "      <td>Oregon</td>\n",
       "      <td>Willamette Valley</td>\n",
       "      <td>Pinot Noir</td>\n",
       "      <td>Ponzi</td>\n",
       "      <td>Luxury Wine</td>\n",
       "      <td>0.80</td>\n",
       "      <td>0.285714</td>\n",
       "      <td>2.800000</td>\n",
       "    </tr>\n",
       "    <tr>\n",
       "      <th>4</th>\n",
       "      <td>France</td>\n",
       "      <td>La Brûlade</td>\n",
       "      <td>95</td>\n",
       "      <td>66.0</td>\n",
       "      <td>Provence</td>\n",
       "      <td>Bandol</td>\n",
       "      <td>Provence red blend</td>\n",
       "      <td>Domaine de la Bégude</td>\n",
       "      <td>Luxury Wine</td>\n",
       "      <td>0.75</td>\n",
       "      <td>0.306122</td>\n",
       "      <td>2.450000</td>\n",
       "    </tr>\n",
       "  </tbody>\n",
       "</table>\n",
       "</div>"
      ],
      "text/plain": [
       "  country                           designation  points  price  \\\n",
       "0      US                     Martha's Vineyard      96  235.0   \n",
       "1   Spain  Carodorum Selección Especial Reserva      96  110.0   \n",
       "2      US         Special Selected Late Harvest      96   90.0   \n",
       "3      US                               Reserve      96   65.0   \n",
       "4  France                            La Brûlade      95   66.0   \n",
       "\n",
       "         province           region_1             variety  \\\n",
       "0      California        Napa Valley  Cabernet Sauvignon   \n",
       "1  Northern Spain               Toro       Tinta de Toro   \n",
       "2      California     Knights Valley     Sauvignon Blanc   \n",
       "3          Oregon  Willamette Valley          Pinot Noir   \n",
       "4        Provence             Bandol  Provence red blend   \n",
       "\n",
       "                    winery     price_category  scaled_points  scaled_price  \\\n",
       "0                    Heitz          Icon Wine           0.80      0.015729   \n",
       "1  Bodega Carmen Rodríguez  Super Luxury Wine           0.80      0.090909   \n",
       "2                 Macauley        Luxury Wine           0.80      0.795918   \n",
       "3                    Ponzi        Luxury Wine           0.80      0.285714   \n",
       "4     Domaine de la Bégude        Luxury Wine           0.75      0.306122   \n",
       "\n",
       "   value_for_money  \n",
       "0        50.860606  \n",
       "1         8.800000  \n",
       "2         1.005128  \n",
       "3         2.800000  \n",
       "4         2.450000  "
      ]
     },
     "execution_count": 23,
     "metadata": {},
     "output_type": "execute_result"
    }
   ],
   "source": [
    "wine.head()"
   ]
  },
  {
   "cell_type": "code",
   "execution_count": 24,
   "metadata": {},
   "outputs": [
    {
     "data": {
      "image/png": "[encoded data removed]",
      "text/plain": [
       "<Figure size 1080x360 with 2 Axes>"
      ]
     },
     "metadata": {},
     "output_type": "display_data"
    }
   ],
   "source": [
    "fig,ax = plt.subplots(1,2,figsize=(15,5))\n",
    "ax[0].boxplot(wine.scaled_points)\n",
    "ax[0].set_title('scaled points distribution')\n",
    "ax[1].boxplot(wine.scaled_price)\n",
    "ax[1].set_title('scaled price distribution')\n",
    "plt.show()"
   ]
  },
  {
   "cell_type": "code",
   "execution_count": 25,
   "metadata": {},
   "outputs": [
    {
     "data": {
      "image/png": "[encoded data removed]",
      "text/plain": [
       "<Figure size 1440x360 with 2 Axes>"
      ]
     },
     "metadata": {},
     "output_type": "display_data"
    }
   ],
   "source": [
    "fig,ax = plt.subplots(1,2,figsize=(20,5))\n",
    "\n",
    "sns.boxplot(data=wine,y='scaled_points',x='price_category',ax=ax[0])\n",
    "ax[0].tick_params(labelrotation=45)\n",
    "ax[0].set_title('scaled points distribution by price category')\n",
    "\n",
    "sns.boxplot(data=wine,y='scaled_price',x='price_category',ax=ax[1])\n",
    "ax[1].tick_params(labelrotation=45)\n",
    "ax[1].set_title('scaled price distribution by price category')\n",
    "plt.show()"
   ]
  },
  {
   "cell_type": "markdown",
   "metadata": {},
   "source": [
    "In the next cell, we will generate three binary features from value_for_money feature.</br>\n",
    "The first one is <b>good_value_for_money</b>, it will indicate whether or not the value_for_money is in a good range that guarantees a good tradeoff between quality and price.<br>\n",
    "The second one is <b>value_2times_money</b>, it will indicate whether or not the quality(points) is at least two time better than the price. <br>\n",
    "The third one is <b>money_2times_value</b>, it will indicate whether or not the price is at least two times higher than the quality(points)."
   ]
  },
  {
   "cell_type": "code",
   "execution_count": 26,
   "metadata": {},
   "outputs": [],
   "source": [
    "#wine faetures\n",
    "wine['good_value_for_money'] = 0\n",
    "wine['value_2times_money']   = 0\n",
    "wine['money_2times_value']   = 0\n",
    "\n",
    "wine.loc[(wine.value_for_money>0.5)&(wine.value_for_money<2),'good_value_for_money'] = 1\n",
    "wine.loc[wine.value_for_money>2,'value_2times_money'] = 1\n",
    "wine.loc[wine.value_for_money<0.5,'money_2times_value'] = 1"
   ]
  },
  {
   "cell_type": "code",
   "execution_count": 27,
   "metadata": {},
   "outputs": [
    {
     "data": {
      "text/html": [
       "<div>\n",
       "<style scoped>\n",
       "    .dataframe tbody tr th:only-of-type {\n",
       "        vertical-align: middle;\n",
       "    }\n",
       "\n",
       "    .dataframe tbody tr th {\n",
       "        vertical-align: top;\n",
       "    }\n",
       "\n",
       "    .dataframe thead th {\n",
       "        text-align: right;\n",
       "    }\n",
       "</style>\n",
       "<table border=\"1\" class=\"dataframe\">\n",
       "  <thead>\n",
       "    <tr style=\"text-align: right;\">\n",
       "      <th></th>\n",
       "      <th>country</th>\n",
       "      <th>designation</th>\n",
       "      <th>points</th>\n",
       "      <th>price</th>\n",
       "      <th>province</th>\n",
       "      <th>region_1</th>\n",
       "      <th>variety</th>\n",
       "      <th>winery</th>\n",
       "      <th>price_category</th>\n",
       "      <th>scaled_points</th>\n",
       "      <th>scaled_price</th>\n",
       "      <th>value_for_money</th>\n",
       "      <th>good_value_for_money</th>\n",
       "      <th>value_2times_money</th>\n",
       "      <th>money_2times_value</th>\n",
       "    </tr>\n",
       "  </thead>\n",
       "  <tbody>\n",
       "    <tr>\n",
       "      <th>0</th>\n",
       "      <td>US</td>\n",
       "      <td>Martha's Vineyard</td>\n",
       "      <td>96</td>\n",
       "      <td>235.0</td>\n",
       "      <td>California</td>\n",
       "      <td>Napa Valley</td>\n",
       "      <td>Cabernet Sauvignon</td>\n",
       "      <td>Heitz</td>\n",
       "      <td>Icon Wine</td>\n",
       "      <td>0.80</td>\n",
       "      <td>0.015729</td>\n",
       "      <td>50.860606</td>\n",
       "      <td>0</td>\n",
       "      <td>1</td>\n",
       "      <td>0</td>\n",
       "    </tr>\n",
       "    <tr>\n",
       "      <th>1</th>\n",
       "      <td>Spain</td>\n",
       "      <td>Carodorum Selección Especial Reserva</td>\n",
       "      <td>96</td>\n",
       "      <td>110.0</td>\n",
       "      <td>Northern Spain</td>\n",
       "      <td>Toro</td>\n",
       "      <td>Tinta de Toro</td>\n",
       "      <td>Bodega Carmen Rodríguez</td>\n",
       "      <td>Super Luxury Wine</td>\n",
       "      <td>0.80</td>\n",
       "      <td>0.090909</td>\n",
       "      <td>8.800000</td>\n",
       "      <td>0</td>\n",
       "      <td>1</td>\n",
       "      <td>0</td>\n",
       "    </tr>\n",
       "    <tr>\n",
       "      <th>2</th>\n",
       "      <td>US</td>\n",
       "      <td>Special Selected Late Harvest</td>\n",
       "      <td>96</td>\n",
       "      <td>90.0</td>\n",
       "      <td>California</td>\n",
       "      <td>Knights Valley</td>\n",
       "      <td>Sauvignon Blanc</td>\n",
       "      <td>Macauley</td>\n",
       "      <td>Luxury Wine</td>\n",
       "      <td>0.80</td>\n",
       "      <td>0.795918</td>\n",
       "      <td>1.005128</td>\n",
       "      <td>1</td>\n",
       "      <td>0</td>\n",
       "      <td>0</td>\n",
       "    </tr>\n",
       "    <tr>\n",
       "      <th>3</th>\n",
       "      <td>US</td>\n",
       "      <td>Reserve</td>\n",
       "      <td>96</td>\n",
       "      <td>65.0</td>\n",
       "      <td>Oregon</td>\n",
       "      <td>Willamette Valley</td>\n",
       "      <td>Pinot Noir</td>\n",
       "      <td>Ponzi</td>\n",
       "      <td>Luxury Wine</td>\n",
       "      <td>0.80</td>\n",
       "      <td>0.285714</td>\n",
       "      <td>2.800000</td>\n",
       "      <td>0</td>\n",
       "      <td>1</td>\n",
       "      <td>0</td>\n",
       "    </tr>\n",
       "    <tr>\n",
       "      <th>4</th>\n",
       "      <td>France</td>\n",
       "      <td>La Brûlade</td>\n",
       "      <td>95</td>\n",
       "      <td>66.0</td>\n",
       "      <td>Provence</td>\n",
       "      <td>Bandol</td>\n",
       "      <td>Provence red blend</td>\n",
       "      <td>Domaine de la Bégude</td>\n",
       "      <td>Luxury Wine</td>\n",
       "      <td>0.75</td>\n",
       "      <td>0.306122</td>\n",
       "      <td>2.450000</td>\n",
       "      <td>0</td>\n",
       "      <td>1</td>\n",
       "      <td>0</td>\n",
       "    </tr>\n",
       "  </tbody>\n",
       "</table>\n",
       "</div>"
      ],
      "text/plain": [
       "  country                           designation  points  price  \\\n",
       "0      US                     Martha's Vineyard      96  235.0   \n",
       "1   Spain  Carodorum Selección Especial Reserva      96  110.0   \n",
       "2      US         Special Selected Late Harvest      96   90.0   \n",
       "3      US                               Reserve      96   65.0   \n",
       "4  France                            La Brûlade      95   66.0   \n",
       "\n",
       "         province           region_1             variety  \\\n",
       "0      California        Napa Valley  Cabernet Sauvignon   \n",
       "1  Northern Spain               Toro       Tinta de Toro   \n",
       "2      California     Knights Valley     Sauvignon Blanc   \n",
       "3          Oregon  Willamette Valley          Pinot Noir   \n",
       "4        Provence             Bandol  Provence red blend   \n",
       "\n",
       "                    winery     price_category  scaled_points  scaled_price  \\\n",
       "0                    Heitz          Icon Wine           0.80      0.015729   \n",
       "1  Bodega Carmen Rodríguez  Super Luxury Wine           0.80      0.090909   \n",
       "2                 Macauley        Luxury Wine           0.80      0.795918   \n",
       "3                    Ponzi        Luxury Wine           0.80      0.285714   \n",
       "4     Domaine de la Bégude        Luxury Wine           0.75      0.306122   \n",
       "\n",
       "   value_for_money  good_value_for_money  value_2times_money  \\\n",
       "0        50.860606                     0                   1   \n",
       "1         8.800000                     0                   1   \n",
       "2         1.005128                     1                   0   \n",
       "3         2.800000                     0                   1   \n",
       "4         2.450000                     0                   1   \n",
       "\n",
       "   money_2times_value  \n",
       "0                   0  \n",
       "1                   0  \n",
       "2                   0  \n",
       "3                   0  \n",
       "4                   0  "
      ]
     },
     "execution_count": 27,
     "metadata": {},
     "output_type": "execute_result"
    }
   ],
   "source": [
    "wine.head()"
   ]
  },
  {
   "cell_type": "markdown",
   "metadata": {},
   "source": [
    "### Winery features :"
   ]
  },
  {
   "cell_type": "markdown",
   "metadata": {},
   "source": [
    "In the next cell, we will group each of the three previous features by winery and calculate their mean value.<br>\n",
    "These new features will indicate the percentage of each one of the previous three features for each winery.<br>\n",
    "For example, if a certain winery has these values on each of these features : <br>\n",
    "* Avg_good_value_for_money = 0.5<br>\n",
    "* Avg_value_2times_money = 0.4<br>\n",
    "* Avg_money_2times_value = 0.1<br>\n",
    "This means that the winery produces 50% of wine with a good quality/price tradeoff, 40% of it's wine's quality is at least 2 times better than the price and only 10% of its wine has a high price compared to the quality."
   ]
  },
  {
   "cell_type": "code",
   "execution_count": 28,
   "metadata": {},
   "outputs": [],
   "source": [
    "#winery features\n",
    "wine['Avg_good_value_for_money'] = wine.winery.map(wine[['good_value_for_money','winery']].groupby('winery').mean()['good_value_for_money'])\n",
    "wine['Avg_value_2times_money']   = wine.winery.map(wine[['value_2times_money','winery']].groupby('winery').mean()['value_2times_money'])\n",
    "wine['Avg_money_2times_value']   = wine.winery.map(wine[['money_2times_value','winery']].groupby('winery').mean()['money_2times_value'])"
   ]
  },
  {
   "cell_type": "code",
   "execution_count": 29,
   "metadata": {},
   "outputs": [],
   "source": [
    "#we no longer need the scaled_price and scaled_points features.\n",
    "wine.drop(['scaled_price','scaled_points'],axis=1,inplace=True)"
   ]
  },
  {
   "cell_type": "markdown",
   "metadata": {},
   "source": [
    "In the next cell I will create a score winery feature, in which I assign a score for each winery based on the three previous features.<br> \n",
    "The score is simply a linear formula in which I will penalize the feature Avg_money_2times_value with a 0.25 coefficient and give 0.5 coefficient to Avg_good_value_for_money feature and 1 coefficient to Avg_value_2times_money feature. <br>\n",
    "I will create the score in a way that it penalizes wineries that produces low wine quality with high price and gives an advantage to the wineries that provides a good price/quality tradeoff or produces a good quality wine with a low price.<br>\n",
    "\n",
    "* X1=Avg_money_2times_value<br>\n",
    "* X2=Avg_good_value_for_money<br>\n",
    "* X3=Avg_value_2times_money<br>\n",
    "\n",
    "Winery_score = X1*0.25 + X2*0.5 + X3*1"
   ]
  },
  {
   "cell_type": "code",
   "execution_count": 30,
   "metadata": {},
   "outputs": [],
   "source": [
    "wine['winery_score'] = wine['Avg_money_2times_value']*0.25+wine['Avg_good_value_for_money']*0.5+wine['Avg_value_2times_money']"
   ]
  },
  {
   "cell_type": "code",
   "execution_count": 31,
   "metadata": {},
   "outputs": [
    {
     "name": "stderr",
     "output_type": "stream",
     "text": [
      "C:\\Users\\Aziz\\Anaconda3\\lib\\site-packages\\scipy\\stats\\stats.py:1713: FutureWarning: Using a non-tuple sequence for multidimensional indexing is deprecated; use `arr[tuple(seq)]` instead of `arr[seq]`. In the future this will be interpreted as an array index, `arr[np.array(seq)]`, which will result either in an error or a different result.\n",
      "  return np.add.reduce(sorted[indexer] * weights, axis=axis) / sumval\n"
     ]
    },
    {
     "data": {
      "image/png": "[encoded data removed]",
      "text/plain": [
       "<Figure size 720x360 with 1 Axes>"
      ]
     },
     "metadata": {},
     "output_type": "display_data"
    }
   ],
   "source": [
    "plt.figure(figsize=(10,5))\n",
    "sns.distplot(wine.winery_score)\n",
    "plt.title('winery score distribution')\n",
    "plt.show()"
   ]
  },
  {
   "cell_type": "markdown",
   "metadata": {},
   "source": [
    "### Final dataset "
   ]
  },
  {
   "cell_type": "code",
   "execution_count": 32,
   "metadata": {},
   "outputs": [
    {
     "data": {
      "text/html": [
       "<div>\n",
       "<style scoped>\n",
       "    .dataframe tbody tr th:only-of-type {\n",
       "        vertical-align: middle;\n",
       "    }\n",
       "\n",
       "    .dataframe tbody tr th {\n",
       "        vertical-align: top;\n",
       "    }\n",
       "\n",
       "    .dataframe thead th {\n",
       "        text-align: right;\n",
       "    }\n",
       "</style>\n",
       "<table border=\"1\" class=\"dataframe\">\n",
       "  <thead>\n",
       "    <tr style=\"text-align: right;\">\n",
       "      <th></th>\n",
       "      <th>country</th>\n",
       "      <th>designation</th>\n",
       "      <th>points</th>\n",
       "      <th>price</th>\n",
       "      <th>province</th>\n",
       "      <th>region_1</th>\n",
       "      <th>variety</th>\n",
       "      <th>winery</th>\n",
       "      <th>price_category</th>\n",
       "      <th>value_for_money</th>\n",
       "      <th>good_value_for_money</th>\n",
       "      <th>value_2times_money</th>\n",
       "      <th>money_2times_value</th>\n",
       "      <th>Avg_good_value_for_money</th>\n",
       "      <th>Avg_value_2times_money</th>\n",
       "      <th>Avg_money_2times_value</th>\n",
       "      <th>winery_score</th>\n",
       "    </tr>\n",
       "  </thead>\n",
       "  <tbody>\n",
       "    <tr>\n",
       "      <th>0</th>\n",
       "      <td>US</td>\n",
       "      <td>Martha's Vineyard</td>\n",
       "      <td>96</td>\n",
       "      <td>235.0</td>\n",
       "      <td>California</td>\n",
       "      <td>Napa Valley</td>\n",
       "      <td>Cabernet Sauvignon</td>\n",
       "      <td>Heitz</td>\n",
       "      <td>Icon Wine</td>\n",
       "      <td>50.860606</td>\n",
       "      <td>0</td>\n",
       "      <td>1</td>\n",
       "      <td>0</td>\n",
       "      <td>0.000000</td>\n",
       "      <td>1.000000</td>\n",
       "      <td>0.000000</td>\n",
       "      <td>1.000000</td>\n",
       "    </tr>\n",
       "    <tr>\n",
       "      <th>1</th>\n",
       "      <td>Spain</td>\n",
       "      <td>Carodorum Selección Especial Reserva</td>\n",
       "      <td>96</td>\n",
       "      <td>110.0</td>\n",
       "      <td>Northern Spain</td>\n",
       "      <td>Toro</td>\n",
       "      <td>Tinta de Toro</td>\n",
       "      <td>Bodega Carmen Rodríguez</td>\n",
       "      <td>Super Luxury Wine</td>\n",
       "      <td>8.800000</td>\n",
       "      <td>0</td>\n",
       "      <td>1</td>\n",
       "      <td>0</td>\n",
       "      <td>0.666667</td>\n",
       "      <td>0.333333</td>\n",
       "      <td>0.000000</td>\n",
       "      <td>0.666667</td>\n",
       "    </tr>\n",
       "    <tr>\n",
       "      <th>2</th>\n",
       "      <td>US</td>\n",
       "      <td>Special Selected Late Harvest</td>\n",
       "      <td>96</td>\n",
       "      <td>90.0</td>\n",
       "      <td>California</td>\n",
       "      <td>Knights Valley</td>\n",
       "      <td>Sauvignon Blanc</td>\n",
       "      <td>Macauley</td>\n",
       "      <td>Luxury Wine</td>\n",
       "      <td>1.005128</td>\n",
       "      <td>1</td>\n",
       "      <td>0</td>\n",
       "      <td>0</td>\n",
       "      <td>0.600000</td>\n",
       "      <td>0.400000</td>\n",
       "      <td>0.000000</td>\n",
       "      <td>0.700000</td>\n",
       "    </tr>\n",
       "    <tr>\n",
       "      <th>3</th>\n",
       "      <td>US</td>\n",
       "      <td>Reserve</td>\n",
       "      <td>96</td>\n",
       "      <td>65.0</td>\n",
       "      <td>Oregon</td>\n",
       "      <td>Willamette Valley</td>\n",
       "      <td>Pinot Noir</td>\n",
       "      <td>Ponzi</td>\n",
       "      <td>Luxury Wine</td>\n",
       "      <td>2.800000</td>\n",
       "      <td>0</td>\n",
       "      <td>1</td>\n",
       "      <td>0</td>\n",
       "      <td>0.486486</td>\n",
       "      <td>0.324324</td>\n",
       "      <td>0.094595</td>\n",
       "      <td>0.591216</td>\n",
       "    </tr>\n",
       "    <tr>\n",
       "      <th>4</th>\n",
       "      <td>France</td>\n",
       "      <td>La Brûlade</td>\n",
       "      <td>95</td>\n",
       "      <td>66.0</td>\n",
       "      <td>Provence</td>\n",
       "      <td>Bandol</td>\n",
       "      <td>Provence red blend</td>\n",
       "      <td>Domaine de la Bégude</td>\n",
       "      <td>Luxury Wine</td>\n",
       "      <td>2.450000</td>\n",
       "      <td>0</td>\n",
       "      <td>1</td>\n",
       "      <td>0</td>\n",
       "      <td>0.500000</td>\n",
       "      <td>0.500000</td>\n",
       "      <td>0.000000</td>\n",
       "      <td>0.750000</td>\n",
       "    </tr>\n",
       "  </tbody>\n",
       "</table>\n",
       "</div>"
      ],
      "text/plain": [
       "  country                           designation  points  price  \\\n",
       "0      US                     Martha's Vineyard      96  235.0   \n",
       "1   Spain  Carodorum Selección Especial Reserva      96  110.0   \n",
       "2      US         Special Selected Late Harvest      96   90.0   \n",
       "3      US                               Reserve      96   65.0   \n",
       "4  France                            La Brûlade      95   66.0   \n",
       "\n",
       "         province           region_1             variety  \\\n",
       "0      California        Napa Valley  Cabernet Sauvignon   \n",
       "1  Northern Spain               Toro       Tinta de Toro   \n",
       "2      California     Knights Valley     Sauvignon Blanc   \n",
       "3          Oregon  Willamette Valley          Pinot Noir   \n",
       "4        Provence             Bandol  Provence red blend   \n",
       "\n",
       "                    winery     price_category  value_for_money  \\\n",
       "0                    Heitz          Icon Wine        50.860606   \n",
       "1  Bodega Carmen Rodríguez  Super Luxury Wine         8.800000   \n",
       "2                 Macauley        Luxury Wine         1.005128   \n",
       "3                    Ponzi        Luxury Wine         2.800000   \n",
       "4     Domaine de la Bégude        Luxury Wine         2.450000   \n",
       "\n",
       "   good_value_for_money  value_2times_money  money_2times_value  \\\n",
       "0                     0                   1                   0   \n",
       "1                     0                   1                   0   \n",
       "2                     1                   0                   0   \n",
       "3                     0                   1                   0   \n",
       "4                     0                   1                   0   \n",
       "\n",
       "   Avg_good_value_for_money  Avg_value_2times_money  Avg_money_2times_value  \\\n",
       "0                  0.000000                1.000000                0.000000   \n",
       "1                  0.666667                0.333333                0.000000   \n",
       "2                  0.600000                0.400000                0.000000   \n",
       "3                  0.486486                0.324324                0.094595   \n",
       "4                  0.500000                0.500000                0.000000   \n",
       "\n",
       "   winery_score  \n",
       "0      1.000000  \n",
       "1      0.666667  \n",
       "2      0.700000  \n",
       "3      0.591216  \n",
       "4      0.750000  "
      ]
     },
     "execution_count": 32,
     "metadata": {},
     "output_type": "execute_result"
    }
   ],
   "source": [
    "wine.head()"
   ]
  },
  {
   "cell_type": "code",
   "execution_count": 33,
   "metadata": {},
   "outputs": [
    {
     "data": {
      "text/html": [
       "<div>\n",
       "<style scoped>\n",
       "    .dataframe tbody tr th:only-of-type {\n",
       "        vertical-align: middle;\n",
       "    }\n",
       "\n",
       "    .dataframe tbody tr th {\n",
       "        vertical-align: top;\n",
       "    }\n",
       "\n",
       "    .dataframe thead th {\n",
       "        text-align: right;\n",
       "    }\n",
       "</style>\n",
       "<table border=\"1\" class=\"dataframe\">\n",
       "  <thead>\n",
       "    <tr style=\"text-align: right;\">\n",
       "      <th></th>\n",
       "      <th>country</th>\n",
       "      <th>designation</th>\n",
       "      <th>points</th>\n",
       "      <th>price</th>\n",
       "      <th>province</th>\n",
       "      <th>region_1</th>\n",
       "      <th>variety</th>\n",
       "      <th>winery</th>\n",
       "      <th>price_category</th>\n",
       "      <th>value_for_money</th>\n",
       "      <th>good_value_for_money</th>\n",
       "      <th>value_2times_money</th>\n",
       "      <th>money_2times_value</th>\n",
       "      <th>Avg_good_value_for_money</th>\n",
       "      <th>Avg_value_2times_money</th>\n",
       "      <th>Avg_money_2times_value</th>\n",
       "      <th>winery_score</th>\n",
       "    </tr>\n",
       "  </thead>\n",
       "  <tbody>\n",
       "    <tr>\n",
       "      <th>150925</th>\n",
       "      <td>Italy</td>\n",
       "      <td>Reserve</td>\n",
       "      <td>91</td>\n",
       "      <td>20.0</td>\n",
       "      <td>Southern Italy</td>\n",
       "      <td>Fiano di Avellino</td>\n",
       "      <td>White Blend</td>\n",
       "      <td>Feudi di San Gregorio</td>\n",
       "      <td>Premium Wine</td>\n",
       "      <td>0.550</td>\n",
       "      <td>1</td>\n",
       "      <td>0</td>\n",
       "      <td>0</td>\n",
       "      <td>0.474747</td>\n",
       "      <td>0.363636</td>\n",
       "      <td>0.151515</td>\n",
       "      <td>0.638889</td>\n",
       "    </tr>\n",
       "    <tr>\n",
       "      <th>150926</th>\n",
       "      <td>France</td>\n",
       "      <td>Cuvée Prestige</td>\n",
       "      <td>91</td>\n",
       "      <td>27.0</td>\n",
       "      <td>Champagne</td>\n",
       "      <td>Champagne</td>\n",
       "      <td>Champagne Blend</td>\n",
       "      <td>H.Germain</td>\n",
       "      <td>Super-Premium Wine</td>\n",
       "      <td>0.825</td>\n",
       "      <td>1</td>\n",
       "      <td>0</td>\n",
       "      <td>0</td>\n",
       "      <td>1.000000</td>\n",
       "      <td>0.000000</td>\n",
       "      <td>0.000000</td>\n",
       "      <td>0.500000</td>\n",
       "    </tr>\n",
       "    <tr>\n",
       "      <th>150927</th>\n",
       "      <td>Italy</td>\n",
       "      <td>Terre di Dora</td>\n",
       "      <td>91</td>\n",
       "      <td>20.0</td>\n",
       "      <td>Southern Italy</td>\n",
       "      <td>Fiano di Avellino</td>\n",
       "      <td>White Blend</td>\n",
       "      <td>Terredora</td>\n",
       "      <td>Premium Wine</td>\n",
       "      <td>0.550</td>\n",
       "      <td>1</td>\n",
       "      <td>0</td>\n",
       "      <td>0</td>\n",
       "      <td>0.631579</td>\n",
       "      <td>0.131579</td>\n",
       "      <td>0.236842</td>\n",
       "      <td>0.506579</td>\n",
       "    </tr>\n",
       "    <tr>\n",
       "      <th>150928</th>\n",
       "      <td>France</td>\n",
       "      <td>Grand Brut Rosé</td>\n",
       "      <td>90</td>\n",
       "      <td>52.0</td>\n",
       "      <td>Champagne</td>\n",
       "      <td>Champagne</td>\n",
       "      <td>Champagne Blend</td>\n",
       "      <td>Gosset</td>\n",
       "      <td>Luxury Wine</td>\n",
       "      <td>24.500</td>\n",
       "      <td>0</td>\n",
       "      <td>1</td>\n",
       "      <td>0</td>\n",
       "      <td>0.818182</td>\n",
       "      <td>0.181818</td>\n",
       "      <td>0.000000</td>\n",
       "      <td>0.590909</td>\n",
       "    </tr>\n",
       "    <tr>\n",
       "      <th>150929</th>\n",
       "      <td>Italy</td>\n",
       "      <td>Reserve</td>\n",
       "      <td>90</td>\n",
       "      <td>15.0</td>\n",
       "      <td>Northeastern Italy</td>\n",
       "      <td>Alto Adige</td>\n",
       "      <td>Pinot Grigio</td>\n",
       "      <td>Alois Lageder</td>\n",
       "      <td>Popular Premium Wine</td>\n",
       "      <td>0.500</td>\n",
       "      <td>0</td>\n",
       "      <td>0</td>\n",
       "      <td>0</td>\n",
       "      <td>0.567568</td>\n",
       "      <td>0.135135</td>\n",
       "      <td>0.243243</td>\n",
       "      <td>0.479730</td>\n",
       "    </tr>\n",
       "  </tbody>\n",
       "</table>\n",
       "</div>"
      ],
      "text/plain": [
       "       country      designation  points  price            province  \\\n",
       "150925   Italy          Reserve      91   20.0      Southern Italy   \n",
       "150926  France   Cuvée Prestige      91   27.0           Champagne   \n",
       "150927   Italy    Terre di Dora      91   20.0      Southern Italy   \n",
       "150928  France  Grand Brut Rosé      90   52.0           Champagne   \n",
       "150929   Italy          Reserve      90   15.0  Northeastern Italy   \n",
       "\n",
       "                 region_1          variety                 winery  \\\n",
       "150925  Fiano di Avellino      White Blend  Feudi di San Gregorio   \n",
       "150926          Champagne  Champagne Blend              H.Germain   \n",
       "150927  Fiano di Avellino      White Blend              Terredora   \n",
       "150928          Champagne  Champagne Blend                 Gosset   \n",
       "150929         Alto Adige     Pinot Grigio          Alois Lageder   \n",
       "\n",
       "              price_category  value_for_money  good_value_for_money  \\\n",
       "150925          Premium Wine            0.550                     1   \n",
       "150926    Super-Premium Wine            0.825                     1   \n",
       "150927          Premium Wine            0.550                     1   \n",
       "150928           Luxury Wine           24.500                     0   \n",
       "150929  Popular Premium Wine            0.500                     0   \n",
       "\n",
       "        value_2times_money  money_2times_value  Avg_good_value_for_money  \\\n",
       "150925                   0                   0                  0.474747   \n",
       "150926                   0                   0                  1.000000   \n",
       "150927                   0                   0                  0.631579   \n",
       "150928                   1                   0                  0.818182   \n",
       "150929                   0                   0                  0.567568   \n",
       "\n",
       "        Avg_value_2times_money  Avg_money_2times_value  winery_score  \n",
       "150925                0.363636                0.151515      0.638889  \n",
       "150926                0.000000                0.000000      0.500000  \n",
       "150927                0.131579                0.236842      0.506579  \n",
       "150928                0.181818                0.000000      0.590909  \n",
       "150929                0.135135                0.243243      0.479730  "
      ]
     },
     "execution_count": 33,
     "metadata": {},
     "output_type": "execute_result"
    }
   ],
   "source": [
    "wine.tail()"
   ]
  },
  {
   "cell_type": "markdown",
   "metadata": {},
   "source": [
    "Feature engineering is a necessary skill in data science and IA fields, as it can introduce new information to your dataset and gives you more insights to develop a better machine learning model<br>\n",
    "For example, we can now order the wineries by their scores, we can also show what regions, province or countries have the best wineries etc.<br>\n",
    "We couldn't reach these kind of insights without feature engineering.<br>\n",
    "Remember that we have generated 8 features (4 features related to the wine and 4 features related to the winery) only from price and points features, we can still generate more features maybe if we use other combinations or ideas."
   ]
  },
  {
   "cell_type": "code",
   "execution_count": 34,
   "metadata": {},
   "outputs": [
    {
     "data": {
      "text/html": [
       "<div>\n",
       "<style scoped>\n",
       "    .dataframe tbody tr th:only-of-type {\n",
       "        vertical-align: middle;\n",
       "    }\n",
       "\n",
       "    .dataframe tbody tr th {\n",
       "        vertical-align: top;\n",
       "    }\n",
       "\n",
       "    .dataframe thead th {\n",
       "        text-align: right;\n",
       "    }\n",
       "</style>\n",
       "<table border=\"1\" class=\"dataframe\">\n",
       "  <thead>\n",
       "    <tr style=\"text-align: right;\">\n",
       "      <th></th>\n",
       "      <th>country</th>\n",
       "      <th>designation</th>\n",
       "      <th>points</th>\n",
       "      <th>price</th>\n",
       "      <th>province</th>\n",
       "      <th>region_1</th>\n",
       "      <th>variety</th>\n",
       "      <th>winery</th>\n",
       "      <th>price_category</th>\n",
       "      <th>value_for_money</th>\n",
       "      <th>good_value_for_money</th>\n",
       "      <th>value_2times_money</th>\n",
       "      <th>money_2times_value</th>\n",
       "      <th>Avg_good_value_for_money</th>\n",
       "      <th>Avg_value_2times_money</th>\n",
       "      <th>Avg_money_2times_value</th>\n",
       "      <th>winery_score</th>\n",
       "    </tr>\n",
       "  </thead>\n",
       "  <tbody>\n",
       "    <tr>\n",
       "      <th>0</th>\n",
       "      <td>US</td>\n",
       "      <td>Martha's Vineyard</td>\n",
       "      <td>96</td>\n",
       "      <td>235.0</td>\n",
       "      <td>California</td>\n",
       "      <td>Napa Valley</td>\n",
       "      <td>Cabernet Sauvignon</td>\n",
       "      <td>Heitz</td>\n",
       "      <td>Icon Wine</td>\n",
       "      <td>50.860606</td>\n",
       "      <td>0</td>\n",
       "      <td>1</td>\n",
       "      <td>0</td>\n",
       "      <td>0.0</td>\n",
       "      <td>1.0</td>\n",
       "      <td>0.0</td>\n",
       "      <td>1.0</td>\n",
       "    </tr>\n",
       "    <tr>\n",
       "      <th>2634</th>\n",
       "      <td>France</td>\n",
       "      <td>Le Grand Bouqueteau</td>\n",
       "      <td>87</td>\n",
       "      <td>16.0</td>\n",
       "      <td>Loire Valley</td>\n",
       "      <td>Chinon</td>\n",
       "      <td>Cabernet Franc</td>\n",
       "      <td>Château du Coudray Montpensier</td>\n",
       "      <td>Premium Wine</td>\n",
       "      <td>1468.600000</td>\n",
       "      <td>0</td>\n",
       "      <td>1</td>\n",
       "      <td>0</td>\n",
       "      <td>0.0</td>\n",
       "      <td>1.0</td>\n",
       "      <td>0.0</td>\n",
       "      <td>1.0</td>\n",
       "    </tr>\n",
       "    <tr>\n",
       "      <th>64365</th>\n",
       "      <td>Greece</td>\n",
       "      <td>Vin de Crete</td>\n",
       "      <td>84</td>\n",
       "      <td>11.0</td>\n",
       "      <td>Crete</td>\n",
       "      <td>Napa Valley</td>\n",
       "      <td>Red Blend</td>\n",
       "      <td>Creta Olympias</td>\n",
       "      <td>Popular Premium Wine</td>\n",
       "      <td>1468.600000</td>\n",
       "      <td>0</td>\n",
       "      <td>1</td>\n",
       "      <td>0</td>\n",
       "      <td>0.0</td>\n",
       "      <td>1.0</td>\n",
       "      <td>0.0</td>\n",
       "      <td>1.0</td>\n",
       "    </tr>\n",
       "    <tr>\n",
       "      <th>64367</th>\n",
       "      <td>US</td>\n",
       "      <td>Reserve</td>\n",
       "      <td>84</td>\n",
       "      <td>16.0</td>\n",
       "      <td>California</td>\n",
       "      <td>Santa Barbara County</td>\n",
       "      <td>Syrah</td>\n",
       "      <td>Los Alisos</td>\n",
       "      <td>Premium Wine</td>\n",
       "      <td>1468.600000</td>\n",
       "      <td>0</td>\n",
       "      <td>1</td>\n",
       "      <td>0</td>\n",
       "      <td>0.0</td>\n",
       "      <td>1.0</td>\n",
       "      <td>0.0</td>\n",
       "      <td>1.0</td>\n",
       "    </tr>\n",
       "    <tr>\n",
       "      <th>64371</th>\n",
       "      <td>Australia</td>\n",
       "      <td>Flying Piano Hand Select</td>\n",
       "      <td>84</td>\n",
       "      <td>11.0</td>\n",
       "      <td>Australia Other</td>\n",
       "      <td>South Eastern Australia</td>\n",
       "      <td>Shiraz</td>\n",
       "      <td>Ozwell Vintners</td>\n",
       "      <td>Popular Premium Wine</td>\n",
       "      <td>1468.600000</td>\n",
       "      <td>0</td>\n",
       "      <td>1</td>\n",
       "      <td>0</td>\n",
       "      <td>0.0</td>\n",
       "      <td>1.0</td>\n",
       "      <td>0.0</td>\n",
       "      <td>1.0</td>\n",
       "    </tr>\n",
       "  </tbody>\n",
       "</table>\n",
       "</div>"
      ],
      "text/plain": [
       "         country               designation  points  price         province  \\\n",
       "0             US         Martha's Vineyard      96  235.0       California   \n",
       "2634      France       Le Grand Bouqueteau      87   16.0     Loire Valley   \n",
       "64365     Greece              Vin de Crete      84   11.0            Crete   \n",
       "64367         US                   Reserve      84   16.0       California   \n",
       "64371  Australia  Flying Piano Hand Select      84   11.0  Australia Other   \n",
       "\n",
       "                      region_1             variety  \\\n",
       "0                  Napa Valley  Cabernet Sauvignon   \n",
       "2634                    Chinon      Cabernet Franc   \n",
       "64365              Napa Valley           Red Blend   \n",
       "64367     Santa Barbara County               Syrah   \n",
       "64371  South Eastern Australia              Shiraz   \n",
       "\n",
       "                               winery        price_category  value_for_money  \\\n",
       "0                               Heitz             Icon Wine        50.860606   \n",
       "2634   Château du Coudray Montpensier          Premium Wine      1468.600000   \n",
       "64365                  Creta Olympias  Popular Premium Wine      1468.600000   \n",
       "64367                      Los Alisos          Premium Wine      1468.600000   \n",
       "64371                 Ozwell Vintners  Popular Premium Wine      1468.600000   \n",
       "\n",
       "       good_value_for_money  value_2times_money  money_2times_value  \\\n",
       "0                         0                   1                   0   \n",
       "2634                      0                   1                   0   \n",
       "64365                     0                   1                   0   \n",
       "64367                     0                   1                   0   \n",
       "64371                     0                   1                   0   \n",
       "\n",
       "       Avg_good_value_for_money  Avg_value_2times_money  \\\n",
       "0                           0.0                     1.0   \n",
       "2634                        0.0                     1.0   \n",
       "64365                       0.0                     1.0   \n",
       "64367                       0.0                     1.0   \n",
       "64371                       0.0                     1.0   \n",
       "\n",
       "       Avg_money_2times_value  winery_score  \n",
       "0                         0.0           1.0  \n",
       "2634                      0.0           1.0  \n",
       "64365                     0.0           1.0  \n",
       "64367                     0.0           1.0  \n",
       "64371                     0.0           1.0  "
      ]
     },
     "execution_count": 34,
     "metadata": {},
     "output_type": "execute_result"
    }
   ],
   "source": [
    "wine.sort_values('winery_score',ascending=False).head()"
   ]
  },
  {
   "cell_type": "code",
   "execution_count": 35,
   "metadata": {},
   "outputs": [
    {
     "data": {
      "image/png": "[encoded data removed]",
      "text/plain": [
       "<Figure size 1440x360 with 1 Axes>"
      ]
     },
     "metadata": {},
     "output_type": "display_data"
    }
   ],
   "source": [
    "plt.figure(figsize=(20,5))\n",
    "wine[['country','winery_score']].groupby('country').mean().sort_values('winery_score',ascending=False).winery_score.plot('bar')\n",
    "plt.title('best country wineries by score')\n",
    "plt.show()"
   ]
  },
  {
   "cell_type": "code",
   "execution_count": 36,
   "metadata": {},
   "outputs": [
    {
     "data": {
      "image/png": "[encoded data removed]",
      "text/plain": [
       "<Figure size 864x432 with 2 Axes>"
      ]
     },
     "metadata": {},
     "output_type": "display_data"
    }
   ],
   "source": [
    "plt.figure(figsize=(12,6))\n",
    "sns.heatmap(wine.corr(),cmap='Blues')\n",
    "plt.show()"
   ]
  },
  {
   "cell_type": "markdown",
   "metadata": {},
   "source": [
    "### Encode data with label encoder"
   ]
  },
  {
   "cell_type": "code",
   "execution_count": 37,
   "metadata": {},
   "outputs": [],
   "source": [
    "from sklearn.preprocessing import LabelEncoder\n",
    "\n",
    "encoder = LabelEncoder()\n",
    "\n",
    "for feature in wine.columns:\n",
    "    if wine[feature].dtype == object:\n",
    "        wine[feature] = encoder.fit_transform(wine[feature])"
   ]
  },
  {
   "cell_type": "code",
   "execution_count": 38,
   "metadata": {},
   "outputs": [
    {
     "data": {
      "text/html": [
       "<div>\n",
       "<style scoped>\n",
       "    .dataframe tbody tr th:only-of-type {\n",
       "        vertical-align: middle;\n",
       "    }\n",
       "\n",
       "    .dataframe tbody tr th {\n",
       "        vertical-align: top;\n",
       "    }\n",
       "\n",
       "    .dataframe thead th {\n",
       "        text-align: right;\n",
       "    }\n",
       "</style>\n",
       "<table border=\"1\" class=\"dataframe\">\n",
       "  <thead>\n",
       "    <tr style=\"text-align: right;\">\n",
       "      <th></th>\n",
       "      <th>country</th>\n",
       "      <th>designation</th>\n",
       "      <th>points</th>\n",
       "      <th>price</th>\n",
       "      <th>province</th>\n",
       "      <th>region_1</th>\n",
       "      <th>variety</th>\n",
       "      <th>winery</th>\n",
       "      <th>price_category</th>\n",
       "      <th>value_for_money</th>\n",
       "      <th>good_value_for_money</th>\n",
       "      <th>value_2times_money</th>\n",
       "      <th>money_2times_value</th>\n",
       "      <th>Avg_good_value_for_money</th>\n",
       "      <th>Avg_value_2times_money</th>\n",
       "      <th>Avg_money_2times_value</th>\n",
       "      <th>winery_score</th>\n",
       "    </tr>\n",
       "  </thead>\n",
       "  <tbody>\n",
       "    <tr>\n",
       "      <th>0</th>\n",
       "      <td>44</td>\n",
       "      <td>17270</td>\n",
       "      <td>96</td>\n",
       "      <td>235.0</td>\n",
       "      <td>51</td>\n",
       "      <td>738</td>\n",
       "      <td>70</td>\n",
       "      <td>7286</td>\n",
       "      <td>0</td>\n",
       "      <td>50.860606</td>\n",
       "      <td>0</td>\n",
       "      <td>1</td>\n",
       "      <td>0</td>\n",
       "      <td>0.000000</td>\n",
       "      <td>1.000000</td>\n",
       "      <td>0.000000</td>\n",
       "      <td>1.000000</td>\n",
       "    </tr>\n",
       "    <tr>\n",
       "      <th>1</th>\n",
       "      <td>40</td>\n",
       "      <td>4397</td>\n",
       "      <td>96</td>\n",
       "      <td>110.0</td>\n",
       "      <td>274</td>\n",
       "      <td>1070</td>\n",
       "      <td>553</td>\n",
       "      <td>1231</td>\n",
       "      <td>4</td>\n",
       "      <td>8.800000</td>\n",
       "      <td>0</td>\n",
       "      <td>1</td>\n",
       "      <td>0</td>\n",
       "      <td>0.666667</td>\n",
       "      <td>0.333333</td>\n",
       "      <td>0.000000</td>\n",
       "      <td>0.666667</td>\n",
       "    </tr>\n",
       "    <tr>\n",
       "      <th>2</th>\n",
       "      <td>44</td>\n",
       "      <td>25379</td>\n",
       "      <td>96</td>\n",
       "      <td>90.0</td>\n",
       "      <td>51</td>\n",
       "      <td>528</td>\n",
       "      <td>468</td>\n",
       "      <td>9032</td>\n",
       "      <td>1</td>\n",
       "      <td>1.005128</td>\n",
       "      <td>1</td>\n",
       "      <td>0</td>\n",
       "      <td>0</td>\n",
       "      <td>0.600000</td>\n",
       "      <td>0.400000</td>\n",
       "      <td>0.000000</td>\n",
       "      <td>0.700000</td>\n",
       "    </tr>\n",
       "    <tr>\n",
       "      <th>3</th>\n",
       "      <td>44</td>\n",
       "      <td>22305</td>\n",
       "      <td>96</td>\n",
       "      <td>65.0</td>\n",
       "      <td>282</td>\n",
       "      <td>1222</td>\n",
       "      <td>402</td>\n",
       "      <td>11001</td>\n",
       "      <td>1</td>\n",
       "      <td>2.800000</td>\n",
       "      <td>0</td>\n",
       "      <td>1</td>\n",
       "      <td>0</td>\n",
       "      <td>0.486486</td>\n",
       "      <td>0.324324</td>\n",
       "      <td>0.094595</td>\n",
       "      <td>0.591216</td>\n",
       "    </tr>\n",
       "    <tr>\n",
       "      <th>4</th>\n",
       "      <td>15</td>\n",
       "      <td>14259</td>\n",
       "      <td>95</td>\n",
       "      <td>66.0</td>\n",
       "      <td>313</td>\n",
       "      <td>66</td>\n",
       "      <td>422</td>\n",
       "      <td>5409</td>\n",
       "      <td>1</td>\n",
       "      <td>2.450000</td>\n",
       "      <td>0</td>\n",
       "      <td>1</td>\n",
       "      <td>0</td>\n",
       "      <td>0.500000</td>\n",
       "      <td>0.500000</td>\n",
       "      <td>0.000000</td>\n",
       "      <td>0.750000</td>\n",
       "    </tr>\n",
       "  </tbody>\n",
       "</table>\n",
       "</div>"
      ],
      "text/plain": [
       "   country  designation  points  price  province  region_1  variety  winery  \\\n",
       "0       44        17270      96  235.0        51       738       70    7286   \n",
       "1       40         4397      96  110.0       274      1070      553    1231   \n",
       "2       44        25379      96   90.0        51       528      468    9032   \n",
       "3       44        22305      96   65.0       282      1222      402   11001   \n",
       "4       15        14259      95   66.0       313        66      422    5409   \n",
       "\n",
       "   price_category  value_for_money  good_value_for_money  value_2times_money  \\\n",
       "0               0        50.860606                     0                   1   \n",
       "1               4         8.800000                     0                   1   \n",
       "2               1         1.005128                     1                   0   \n",
       "3               1         2.800000                     0                   1   \n",
       "4               1         2.450000                     0                   1   \n",
       "\n",
       "   money_2times_value  Avg_good_value_for_money  Avg_value_2times_money  \\\n",
       "0                   0                  0.000000                1.000000   \n",
       "1                   0                  0.666667                0.333333   \n",
       "2                   0                  0.600000                0.400000   \n",
       "3                   0                  0.486486                0.324324   \n",
       "4                   0                  0.500000                0.500000   \n",
       "\n",
       "   Avg_money_2times_value  winery_score  \n",
       "0                0.000000      1.000000  \n",
       "1                0.000000      0.666667  \n",
       "2                0.000000      0.700000  \n",
       "3                0.094595      0.591216  \n",
       "4                0.000000      0.750000  "
      ]
     },
     "execution_count": 38,
     "metadata": {},
     "output_type": "execute_result"
    }
   ],
   "source": [
    "wine.head()"
   ]
  },
  {
   "cell_type": "markdown",
   "metadata": {},
   "source": [
    "After we encoded our data, we can move on to build our machine learning model. <br>\n",
    "That's it! Hope you enjoyed the tutorial."
   ]
  }
 ],
 "metadata": {
  "kernelspec": {
   "display_name": "Python 3",
   "language": "python",
   "name": "python3"
  },
  "language_info": {
   "codemirror_mode": {
    "name": "ipython",
    "version": 3
   },
   "file_extension": ".py",
   "mimetype": "text/x-python",
   "name": "python",
   "nbconvert_exporter": "python",
   "pygments_lexer": "ipython3",
   "version": "3.6.5"
  }
 },
 "nbformat": 4,
 "nbformat_minor": 4
}
